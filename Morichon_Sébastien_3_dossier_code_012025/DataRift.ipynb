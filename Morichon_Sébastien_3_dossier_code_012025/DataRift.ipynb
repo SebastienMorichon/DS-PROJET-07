{
 "cells": [
  {
   "cell_type": "code",
   "execution_count": 1,
   "id": "ecc9104e-5df9-4c54-a87f-c7ca8df6df61",
   "metadata": {},
   "outputs": [],
   "source": [
    "import pandas as pd\n",
    "from evidently import ColumnMapping\n",
    "from evidently.report import Report\n",
    "from evidently.metric_preset import DataDriftPreset\n",
    "\n",
    "# Charger les datasets\n",
    "application_train = pd.read_csv(\"Bases de données/application_train.csv\")\n",
    "application_test = pd.read_csv(\"Bases de données/application_test.csv\")\n",
    "\n",
    "# Supprimer la colonne TARGET des données d'entraînement\n",
    "application_train = application_train.drop(columns=[\"TARGET\"], errors=\"ignore\")\n",
    "\n",
    "# Définir les principales features pour la détection du Data Drift\n",
    "# Vous pouvez ajuster cette liste en fonction des principales variables utilisées par votre modèle\n",
    "main_features = [\"EXT_SOURCE_3\", \"EXT_SOURCE_2\", \"CREDIT_TERM\", \"EXT_SOURCE_1\", \"AMT_GOODS_PRICE\"]\n",
    "\n",
    "# Configurer le mapping des colonnes dans Evidently\n",
    "column_mapping = ColumnMapping()\n",
    "column_mapping.numerical_features = main_features\n",
    "\n",
    "# Créer le rapport Evidently pour détecter le Data Drift\n",
    "data_drift_report = Report(metrics=[DataDriftPreset()])\n",
    "data_drift_report.run(reference_data=application_train, current_data=application_test, column_mapping=column_mapping)\n",
    "\n",
    "# Enregistrer le rapport en HTML\n",
    "data_drift_report.save_html(\"data_drift_report.html\")\n"
   ]
  },
  {
   "cell_type": "code",
   "execution_count": null,
   "id": "228f7822-01ea-4b1c-b778-a43a3f065e83",
   "metadata": {},
   "outputs": [],
   "source": []
  }
 ],
 "metadata": {
  "kernelspec": {
   "display_name": "Python 3 (ipykernel)",
   "language": "python",
   "name": "python3"
  },
  "language_info": {
   "codemirror_mode": {
    "name": "ipython",
    "version": 3
   },
   "file_extension": ".py",
   "mimetype": "text/x-python",
   "name": "python",
   "nbconvert_exporter": "python",
   "pygments_lexer": "ipython3",
   "version": "3.11.9"
  }
 },
 "nbformat": 4,
 "nbformat_minor": 5
}
