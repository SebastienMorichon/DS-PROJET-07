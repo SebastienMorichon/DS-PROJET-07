{
 "cells": [
  {
   "cell_type": "code",
   "execution_count": null,
   "id": "a28fda7f-1700-4b08-8565-09e0adbbcc40",
   "metadata": {},
   "outputs": [],
   "source": []
  }
 ],
 "metadata": {
  "kernelspec": {
   "display_name": "",
   "name": ""
  },
  "language_info": {
   "name": ""
  }
 },
 "nbformat": 4,
 "nbformat_minor": 5
}
